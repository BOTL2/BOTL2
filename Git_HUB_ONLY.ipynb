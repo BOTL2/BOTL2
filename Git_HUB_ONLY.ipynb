{
  "nbformat": 4,
  "nbformat_minor": 0,
  "metadata": {
    "colab": {
      "provenance": [],
      "authorship_tag": "ABX9TyOdtE0tXHyM17WuV81YFH7R",
      "include_colab_link": true
    },
    "kernelspec": {
      "name": "python3",
      "display_name": "Python 3"
    },
    "language_info": {
      "name": "python"
    }
  },
  "cells": [
    {
      "cell_type": "markdown",
      "metadata": {
        "id": "view-in-github",
        "colab_type": "text"
      },
      "source": [
        "<a href=\"https://colab.research.google.com/github/BOTL2/BOTL2/blob/main/Git_HUB_ONLY.ipynb\" target=\"_parent\"><img src=\"https://colab.research.google.com/assets/colab-badge.svg\" alt=\"Open In Colab\"/></a>"
      ]
    },
    {
      "cell_type": "code",
      "execution_count": null,
      "metadata": {
        "id": "6aZtFgB0W8ci"
      },
      "outputs": [],
      "source": [
        "def Gym_time(height,weight):\n",
        "\n",
        "  convert_height=height/100  # m e\n",
        "  BMI=weight/(convert_height**2)\n",
        "\n",
        "\n",
        "  if BMI<18.5:\n",
        "    print(\"Score is\",BMI,\".\",\"You are Underweight\")\n",
        "  elif 18.5<=BMI and BMI<=24.9:\n",
        "    print(\"Score is\",BMI,\".\",\"You are Normal\")\n",
        "  elif 25<=BMI and BMI<=30:\n",
        "     print(\"Score is\",BMI,\".\",\"You are Overweight\")\n",
        "\n",
        "  elif BMI>=30:\n",
        "    print(\"Score is\",BMI,\".\",\"You are Obese\")\n",
        "\n",
        "height=int(input(\"ENTER YOUR HEIGHT IN CM\"))\n",
        "weight=int(input(\"ENTER YOUR WEIGHT IN KG\"))\n",
        "\n",
        "\n",
        "Gym_time(height,weight)\n"
      ]
    }
  ]
}